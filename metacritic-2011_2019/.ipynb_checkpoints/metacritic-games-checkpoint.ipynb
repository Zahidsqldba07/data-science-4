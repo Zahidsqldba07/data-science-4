{
 "cells": [
  {
   "cell_type": "code",
   "execution_count": 1,
   "metadata": {},
   "outputs": [],
   "source": [
    "import pandas as pd\n",
    "import numpy as np\n",
    "import requests\n",
    "import json"
   ]
  },
  {
   "cell_type": "code",
   "execution_count": 2,
   "metadata": {},
   "outputs": [],
   "source": [
    "df = pd.read_csv('metacritic_games.csv')"
   ]
  },
  {
   "cell_type": "code",
   "execution_count": 3,
   "metadata": {},
   "outputs": [],
   "source": [
    "pd.set_option('display.max_columns', len(df))"
   ]
  },
  {
   "cell_type": "code",
   "execution_count": 4,
   "metadata": {},
   "outputs": [
    {
     "data": {
      "text/plain": [
       "(5699, 19)"
      ]
     },
     "execution_count": 4,
     "metadata": {},
     "output_type": "execute_result"
    }
   ],
   "source": [
    "df.shape"
   ]
  },
  {
   "cell_type": "markdown",
   "metadata": {},
   "source": [
    "## Verificando quais colunas possuem valores nulos ou missing\n",
    "Podemos verificar que as colunas developer, genre, number_players e rating possuem valores faltantes."
   ]
  },
  {
   "cell_type": "code",
   "execution_count": 5,
   "metadata": {},
   "outputs": [
    {
     "data": {
      "text/plain": [
       "game                False\n",
       "platform            False\n",
       "developer            True\n",
       "genre                True\n",
       "number_players       True\n",
       "rating               True\n",
       "release_date        False\n",
       "positive_critics    False\n",
       "neutral_critics     False\n",
       "negative_critics    False\n",
       "positive_users      False\n",
       "neutral_users       False\n",
       "negative_users      False\n",
       "metascore           False\n",
       "user_score          False\n",
       "Unnamed: 15          True\n",
       "Unnamed: 16          True\n",
       "Unnamed: 17          True\n",
       "Unnamed: 18          True\n",
       "dtype: bool"
      ]
     },
     "execution_count": 5,
     "metadata": {},
     "output_type": "execute_result"
    }
   ],
   "source": [
    "df.isnull().any()"
   ]
  },
  {
   "cell_type": "markdown",
   "metadata": {},
   "source": [
    "### Devido ao fato de que alguns jogos estão com o nome da desenvolvedora em branco (NaN), foi efetuada uma consulta em uma API pública para obter o nome. Para isso, foi utilizado o site IGDB.com, que fornece uma API para consulta de dados de videogames."
   ]
  },
  {
   "cell_type": "code",
   "execution_count": 6,
   "metadata": {},
   "outputs": [],
   "source": [
    "def requestInvolvedCompanies(game):\n",
    "    url = \"https://api-v3.igdb.com/games\"\n",
    "    \n",
    "    payload = \"search \\\"{}\\\";\\nfields involved_companies;\\nrelease_date.human;\\nwhere version_parent = null;\".format(game)\n",
    "    \n",
    "    headers = {\n",
    "    'cookie': \"__cfduid=d4bed4e84314697f5dcf282a31e3174bd1593302851\",\n",
    "    'user-key': \"2078e56b79acab9b669a3bd18661c2ba\"\n",
    "    }\n",
    "    \n",
    "    try:\n",
    "        response = requests.request(\"GET\", url, data=payload, headers=headers)\n",
    "    \n",
    "        involved_companies = json.loads(response.text)    \n",
    "        return involved_companies[0]['involved_companies'][0]\n",
    "    \n",
    "    except:\n",
    "        print('Erro durante {}'.format(game))"
   ]
  },
  {
   "cell_type": "code",
   "execution_count": 7,
   "metadata": {},
   "outputs": [],
   "source": [
    "def requestMainCompany(id_company):\n",
    "    url = \"https://api-v3.igdb.com/involved_companies\"\n",
    "    \n",
    "    payload = \"fields company; where id = {};\\n\".format(id_company)\n",
    "    \n",
    "    headers = {\n",
    "    'cookie': \"__cfduid=d4bed4e84314697f5dcf282a31e3174bd1593302851\",\n",
    "    'user-key': \"2078e56b79acab9b669a3bd18661c2ba\"\n",
    "    }\n",
    "    \n",
    "    try:\n",
    "        response = requests.request(\"GET\", url, data=payload, headers=headers)        \n",
    "        company = json.loads(response.text)\n",
    "    \n",
    "        return company[0]['company']\n",
    "       \n",
    "    except:\n",
    "        print('Erro durante o id_company {}'.format(id_company))"
   ]
  },
  {
   "cell_type": "code",
   "execution_count": 9,
   "metadata": {},
   "outputs": [],
   "source": [
    "def requestDeveloperName(id_developer):\n",
    "    url = \"https://api-v3.igdb.com/companies\"\n",
    "    \n",
    "    payload = \"fields *;\\nwhere id = {};\".format(id_developer)\n",
    "    headers = {\n",
    "    'cookie': \"__cfduid=d4bed4e84314697f5dcf282a31e3174bd1593302851\",\n",
    "    'user-key': \"2078e56b79acab9b669a3bd18661c2ba\"\n",
    "    }\n",
    "    \n",
    "    try:\n",
    "        response = requests.request(\"GET\", url, data=payload, headers=headers)        \n",
    "        developer = json.loads(response.text)[0]\n",
    "        return developer['name']\n",
    "    \n",
    "    except:\n",
    "        print('Erro durante o id_developer {}'.format(id_developer))"
   ]
  },
  {
   "cell_type": "code",
   "execution_count": 11,
   "metadata": {},
   "outputs": [],
   "source": [
    "remove = [1727, 1901, 1129, 4192]\n",
    "\n",
    "df.drop(remove, inplace=True)"
   ]
  },
  {
   "cell_type": "code",
   "execution_count": 15,
   "metadata": {},
   "outputs": [],
   "source": [
    "games = df[df['developer'].isna()]['game']"
   ]
  },
  {
   "cell_type": "markdown",
   "metadata": {},
   "source": [
    "### Com nossas funções de acesso aos dados da API, podemos então percorrer os dados de nome do jogo do nosso dataframe e substituir os valores missing em nome da desenvolvedora"
   ]
  },
  {
   "cell_type": "code",
   "execution_count": 16,
   "metadata": {},
   "outputs": [],
   "source": [
    "devs = list()\n",
    "\n",
    "for game in games:\n",
    "    id_company = requestInvolvedCompanies(game)\n",
    "    id_developer = requestMainCompany(id_company)\n",
    "    developer_name = requestDeveloperName(id_developer)\n",
    "    devs.append(developer_name)"
   ]
  },
  {
   "cell_type": "code",
   "execution_count": 17,
   "metadata": {},
   "outputs": [
    {
     "data": {
      "text/plain": [
       "['Electronic Arts',\n",
       " 'Burut CT',\n",
       " 'No Reply Games',\n",
       " 'Red Barrels',\n",
       " 'Housemarque',\n",
       " 'Centauri Production',\n",
       " 'Bungie',\n",
       " 'Nude Maker',\n",
       " '612 Games']"
      ]
     },
     "execution_count": 17,
     "metadata": {},
     "output_type": "execute_result"
    }
   ],
   "source": [
    "devs"
   ]
  },
  {
   "cell_type": "code",
   "execution_count": null,
   "metadata": {},
   "outputs": [],
   "source": [
    "index = [258, 620, 1103, 1434, 1562, 1609, 1818, 3500, 5520]"
   ]
  },
  {
   "cell_type": "code",
   "execution_count": null,
   "metadata": {},
   "outputs": [],
   "source": [
    "i = 0\n",
    "while i < len(index):\n",
    "    df['developer'].iloc[index[i]] = devs[i]\n",
    "    i +=1"
   ]
  },
  {
   "cell_type": "code",
   "execution_count": 21,
   "metadata": {},
   "outputs": [
    {
     "data": {
      "text/plain": [
       "'Tango Gameworks'"
      ]
     },
     "execution_count": 21,
     "metadata": {},
     "output_type": "execute_result"
    }
   ],
   "source": [
    "df['developer'].iloc[1558]"
   ]
  },
  {
   "cell_type": "code",
   "execution_count": null,
   "metadata": {},
   "outputs": [],
   "source": []
  }
 ],
 "metadata": {
  "kernelspec": {
   "display_name": "Python 3",
   "language": "python",
   "name": "python3"
  },
  "language_info": {
   "codemirror_mode": {
    "name": "ipython",
    "version": 3
   },
   "file_extension": ".py",
   "mimetype": "text/x-python",
   "name": "python",
   "nbconvert_exporter": "python",
   "pygments_lexer": "ipython3",
   "version": "3.8.2"
  }
 },
 "nbformat": 4,
 "nbformat_minor": 4
}
