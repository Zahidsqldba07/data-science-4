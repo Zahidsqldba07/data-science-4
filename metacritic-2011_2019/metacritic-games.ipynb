{
 "cells": [
  {
   "cell_type": "code",
   "execution_count": 2,
   "metadata": {},
   "outputs": [],
   "source": [
    "import pandas as pd\n",
    "import numpy as np\n",
    "import requests\n",
    "import json"
   ]
  },
  {
   "cell_type": "code",
   "execution_count": 3,
   "metadata": {},
   "outputs": [],
   "source": [
    "df = pd.read_csv('metacritic_games.csv')"
   ]
  },
  {
   "cell_type": "code",
   "execution_count": 5,
   "metadata": {},
   "outputs": [],
   "source": [
    "pd.set_option('display.max_columns', len(df))"
   ]
  },
  {
   "cell_type": "markdown",
   "metadata": {},
   "source": [
    "## Verificando quais colunas possuem valores nulos ou missing\n",
    "Podemos verificar que as colunas developer, genre, number_players e rating possuem valores faltantes."
   ]
  },
  {
   "cell_type": "markdown",
   "metadata": {},
   "source": [
    "### Devido ao fato de que alguns jogos estão com o nome da desenvolvedora em branco (NaN), foi efetuada uma consulta em uma API pública para obter o nome. Para isso, foi utilizado o site IGDB.com, que fornece uma API para consulta de dados de videogames."
   ]
  },
  {
   "cell_type": "code",
   "execution_count": 8,
   "metadata": {},
   "outputs": [],
   "source": [
    "def requestInvolvedCompanies(game):\n",
    "    url = \"https://api-v3.igdb.com/games\"\n",
    "    \n",
    "    payload = \"search \\\"{}\\\";\\nfields involved_companies;\\nrelease_date.human;\\nwhere version_parent = null;\".format(game)\n",
    "    \n",
    "    headers = {\n",
    "    'cookie': \"__cfduid=d4bed4e84314697f5dcf282a31e3174bd1593302851\",\n",
    "    'user-key': \"2078e56b79acab9b669a3bd18661c2ba\"\n",
    "    }\n",
    "    \n",
    "    try:\n",
    "        response = requests.request(\"GET\", url, data=payload, headers=headers)\n",
    "    \n",
    "        involved_companies = json.loads(response.text)    \n",
    "        return involved_companies[0]['involved_companies'][0]\n",
    "    \n",
    "    except:\n",
    "        print('Erro durante {}'.format(game))"
   ]
  },
  {
   "cell_type": "code",
   "execution_count": 9,
   "metadata": {},
   "outputs": [],
   "source": [
    "def requestMainCompany(id_company):\n",
    "    url = \"https://api-v3.igdb.com/involved_companies\"\n",
    "    \n",
    "    payload = \"fields company; where id = {};\\n\".format(id_company)\n",
    "    \n",
    "    headers = {\n",
    "    'cookie': \"__cfduid=d4bed4e84314697f5dcf282a31e3174bd1593302851\",\n",
    "    'user-key': \"2078e56b79acab9b669a3bd18661c2ba\"\n",
    "    }\n",
    "    \n",
    "    try:\n",
    "        response = requests.request(\"GET\", url, data=payload, headers=headers)        \n",
    "        company = json.loads(response.text)\n",
    "    \n",
    "        return company[0]['company']\n",
    "       \n",
    "    except:\n",
    "        print('Erro durante o id_company {}'.format(id_company))"
   ]
  },
  {
   "cell_type": "code",
   "execution_count": 10,
   "metadata": {},
   "outputs": [],
   "source": [
    "def requestDeveloperName(id_developer):\n",
    "    url = \"https://api-v3.igdb.com/companies\"\n",
    "    \n",
    "    payload = \"fields *;\\nwhere id = {};\".format(id_developer)\n",
    "    headers = {\n",
    "    'cookie': \"__cfduid=d4bed4e84314697f5dcf282a31e3174bd1593302851\",\n",
    "    'user-key': \"2078e56b79acab9b669a3bd18661c2ba\"\n",
    "    }\n",
    "    \n",
    "    try:\n",
    "        response = requests.request(\"GET\", url, data=payload, headers=headers)        \n",
    "        developer = json.loads(response.text)[0]\n",
    "        return developer['name']\n",
    "    \n",
    "    except:\n",
    "        print('Erro durante o id_developer {}'.format(id_developer))"
   ]
  },
  {
   "cell_type": "code",
   "execution_count": 11,
   "metadata": {},
   "outputs": [],
   "source": [
    "remove = [1727, 1901, 1129, 4192]\n",
    "\n",
    "df.drop(remove, inplace=True)"
   ]
  },
  {
   "cell_type": "code",
   "execution_count": 12,
   "metadata": {},
   "outputs": [],
   "source": [
    "games = df[df['developer'].isna()]['game']"
   ]
  },
  {
   "cell_type": "markdown",
   "metadata": {},
   "source": [
    "### Com nossas funções de acesso aos dados da API, podemos então percorrer os dados de nome do jogo do nosso dataframe e substituir os valores missing em nome da desenvolvedora"
   ]
  },
  {
   "cell_type": "code",
   "execution_count": 13,
   "metadata": {},
   "outputs": [],
   "source": [
    "devs = list()\n",
    "\n",
    "for game in games:\n",
    "    id_company = requestInvolvedCompanies(game)\n",
    "    id_developer = requestMainCompany(id_company)\n",
    "    developer_name = requestDeveloperName(id_developer)\n",
    "    devs.append(developer_name)"
   ]
  },
  {
   "cell_type": "code",
   "execution_count": null,
   "metadata": {},
   "outputs": [],
   "source": [
    "df[df['developer'].isna()]['game']"
   ]
  },
  {
   "cell_type": "code",
   "execution_count": 15,
   "metadata": {},
   "outputs": [],
   "source": [
    "index = [258, 620, 1103, 1433, 1561, 1608, 1816, 3497, 5516]"
   ]
  },
  {
   "cell_type": "code",
   "execution_count": null,
   "metadata": {},
   "outputs": [],
   "source": [
    "i = 0\n",
    "while i < len(index):\n",
    "    df['developer'].iloc[index[i]] = devs[i]\n",
    "    i +=1"
   ]
  },
  {
   "cell_type": "code",
   "execution_count": 18,
   "metadata": {},
   "outputs": [
    {
     "data": {
      "text/html": [
       "<div>\n",
       "<style scoped>\n",
       "    .dataframe tbody tr th:only-of-type {\n",
       "        vertical-align: middle;\n",
       "    }\n",
       "\n",
       "    .dataframe tbody tr th {\n",
       "        vertical-align: top;\n",
       "    }\n",
       "\n",
       "    .dataframe thead th {\n",
       "        text-align: right;\n",
       "    }\n",
       "</style>\n",
       "<table border=\"1\" class=\"dataframe\">\n",
       "  <thead>\n",
       "    <tr style=\"text-align: right;\">\n",
       "      <th></th>\n",
       "      <th>game</th>\n",
       "      <th>platform</th>\n",
       "      <th>developer</th>\n",
       "      <th>genre</th>\n",
       "      <th>number_players</th>\n",
       "      <th>rating</th>\n",
       "      <th>release_date</th>\n",
       "      <th>positive_critics</th>\n",
       "      <th>neutral_critics</th>\n",
       "      <th>negative_critics</th>\n",
       "      <th>positive_users</th>\n",
       "      <th>neutral_users</th>\n",
       "      <th>negative_users</th>\n",
       "      <th>metascore</th>\n",
       "      <th>user_score</th>\n",
       "    </tr>\n",
       "  </thead>\n",
       "  <tbody>\n",
       "    <tr>\n",
       "      <th>0</th>\n",
       "      <td>Portal 2</td>\n",
       "      <td>PC</td>\n",
       "      <td>Valve Software</td>\n",
       "      <td>Action</td>\n",
       "      <td>NaN</td>\n",
       "      <td>E10+</td>\n",
       "      <td>Apr 18, 2011</td>\n",
       "      <td>51</td>\n",
       "      <td>1</td>\n",
       "      <td>0</td>\n",
       "      <td>1700</td>\n",
       "      <td>107</td>\n",
       "      <td>19</td>\n",
       "      <td>95</td>\n",
       "      <td>90</td>\n",
       "    </tr>\n",
       "    <tr>\n",
       "      <th>1</th>\n",
       "      <td>The Elder Scrolls V: Skyrim</td>\n",
       "      <td>PC</td>\n",
       "      <td>Bethesda Game Studios</td>\n",
       "      <td>Role-Playing</td>\n",
       "      <td>No Online Multiplayer</td>\n",
       "      <td>M</td>\n",
       "      <td>Nov 10, 2011</td>\n",
       "      <td>32</td>\n",
       "      <td>0</td>\n",
       "      <td>0</td>\n",
       "      <td>1616</td>\n",
       "      <td>322</td>\n",
       "      <td>451</td>\n",
       "      <td>94</td>\n",
       "      <td>82</td>\n",
       "    </tr>\n",
       "    <tr>\n",
       "      <th>2</th>\n",
       "      <td>The Legend of Zelda: Ocarina of Time 3D</td>\n",
       "      <td>3DS</td>\n",
       "      <td>GREZZO</td>\n",
       "      <td>Miscellaneous</td>\n",
       "      <td>No Online Multiplayer</td>\n",
       "      <td>E10+</td>\n",
       "      <td>Jun 19, 2011</td>\n",
       "      <td>84</td>\n",
       "      <td>1</td>\n",
       "      <td>0</td>\n",
       "      <td>283</td>\n",
       "      <td>20</td>\n",
       "      <td>5</td>\n",
       "      <td>94</td>\n",
       "      <td>90</td>\n",
       "    </tr>\n",
       "    <tr>\n",
       "      <th>3</th>\n",
       "      <td>Batman: Arkham City</td>\n",
       "      <td>PC</td>\n",
       "      <td>Rocksteady Studios</td>\n",
       "      <td>Action Adventure</td>\n",
       "      <td>NaN</td>\n",
       "      <td>T</td>\n",
       "      <td>Nov 21, 2011</td>\n",
       "      <td>27</td>\n",
       "      <td>0</td>\n",
       "      <td>0</td>\n",
       "      <td>240</td>\n",
       "      <td>34</td>\n",
       "      <td>27</td>\n",
       "      <td>91</td>\n",
       "      <td>87</td>\n",
       "    </tr>\n",
       "    <tr>\n",
       "      <th>4</th>\n",
       "      <td>Super Mario 3D Land</td>\n",
       "      <td>3DS</td>\n",
       "      <td>Nintendo</td>\n",
       "      <td>Action</td>\n",
       "      <td>No Online Multiplayer</td>\n",
       "      <td>E</td>\n",
       "      <td>Nov 13, 2011</td>\n",
       "      <td>81</td>\n",
       "      <td>1</td>\n",
       "      <td>0</td>\n",
       "      <td>251</td>\n",
       "      <td>39</td>\n",
       "      <td>11</td>\n",
       "      <td>90</td>\n",
       "      <td>84</td>\n",
       "    </tr>\n",
       "  </tbody>\n",
       "</table>\n",
       "</div>"
      ],
      "text/plain": [
       "                                      game platform              developer  \\\n",
       "0                                 Portal 2       PC         Valve Software   \n",
       "1              The Elder Scrolls V: Skyrim       PC  Bethesda Game Studios   \n",
       "2  The Legend of Zelda: Ocarina of Time 3D      3DS                 GREZZO   \n",
       "3                      Batman: Arkham City       PC     Rocksteady Studios   \n",
       "4                      Super Mario 3D Land      3DS               Nintendo   \n",
       "\n",
       "              genre         number_players rating  release_date  \\\n",
       "0            Action                    NaN   E10+  Apr 18, 2011   \n",
       "1      Role-Playing  No Online Multiplayer      M  Nov 10, 2011   \n",
       "2     Miscellaneous  No Online Multiplayer   E10+  Jun 19, 2011   \n",
       "3  Action Adventure                    NaN      T  Nov 21, 2011   \n",
       "4            Action  No Online Multiplayer      E  Nov 13, 2011   \n",
       "\n",
       "   positive_critics  neutral_critics  negative_critics  positive_users  \\\n",
       "0                51                1                 0            1700   \n",
       "1                32                0                 0            1616   \n",
       "2                84                1                 0             283   \n",
       "3                27                0                 0             240   \n",
       "4                81                1                 0             251   \n",
       "\n",
       "   neutral_users  negative_users  metascore  user_score  \n",
       "0            107              19         95          90  \n",
       "1            322             451         94          82  \n",
       "2             20               5         94          90  \n",
       "3             34              27         91          87  \n",
       "4             39              11         90          84  "
      ]
     },
     "execution_count": 18,
     "metadata": {},
     "output_type": "execute_result"
    }
   ],
   "source": [
    "df.tp"
   ]
  },
  {
   "cell_type": "code",
   "execution_count": null,
   "metadata": {},
   "outputs": [],
   "source": []
  }
 ],
 "metadata": {
  "kernelspec": {
   "display_name": "Python 3",
   "language": "python",
   "name": "python3"
  },
  "language_info": {
   "codemirror_mode": {
    "name": "ipython",
    "version": 3
   },
   "file_extension": ".py",
   "mimetype": "text/x-python",
   "name": "python",
   "nbconvert_exporter": "python",
   "pygments_lexer": "ipython3",
   "version": "3.8.2"
  }
 },
 "nbformat": 4,
 "nbformat_minor": 4
}
