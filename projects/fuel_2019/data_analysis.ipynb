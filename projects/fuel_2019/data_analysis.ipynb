{
 "cells": [
  {
   "cell_type": "markdown",
   "metadata": {},
   "source": [
    "Após limparmos nossos dados e removermos as inconsistências, podemos então voltar nossas atenções ao processo de análise propriamente dito, onde iremos manipular nossos dados de forma a responder as questões que objetivamos responder, sendo elas:\n",
    "\n",
    "- Preço médio de venda de cada combustível por estado;\n",
    "- Preço médio de venda da gasolina em Alegrete - RS;"
   ]
  },
  {
   "cell_type": "code",
   "execution_count": 1,
   "metadata": {},
   "outputs": [],
   "source": [
    "import pandas as pd\n",
    "import numpy as np"
   ]
  },
  {
   "cell_type": "code",
   "execution_count": 2,
   "metadata": {},
   "outputs": [],
   "source": [
    "df = pd.read_csv('datasets/cleaned_fuel.csv', sep=';', index_col=0)"
   ]
  },
  {
   "cell_type": "code",
   "execution_count": 3,
   "metadata": {},
   "outputs": [],
   "source": [
    "alegrete_fuel = df[(df['Município'] == 'ALEGRETE') & (df['Produto'] == 'GASOLINA')] \\\n",
    "            .sort_values(by='Data da Coleta') \\\n",
    "            .filter(items=['Data da Coleta', \"Valor de Venda\"]) \\\n",
    "            .set_index(['Data da Coleta'])\n",
    "\n",
    "alegrete_fuel.index = pd.to_datetime(alegrete_fuel.index)\n",
    "alegrete_fuel = alegrete_fuel.groupby('Data da Coleta').agg({'Valor de Venda': np.average})\n",
    "alegrete_fuel.to_csv('datasets/alegrete_fuel.csv', sep=';')"
   ]
  },
  {
   "cell_type": "code",
   "execution_count": 4,
   "metadata": {},
   "outputs": [
    {
     "data": {
      "text/plain": [
       "(496226, 3)"
      ]
     },
     "execution_count": 4,
     "metadata": {},
     "output_type": "execute_result"
    }
   ],
   "source": [
    "price_by_state = df.filter(items=['Estado - Sigla', 'Produto', 'Valor de Venda'])\n",
    "price_by_state.shape"
   ]
  },
  {
   "cell_type": "code",
   "execution_count": 6,
   "metadata": {},
   "outputs": [],
   "source": [
    "states = [x for x in price_by_state['Estado - Sigla'].unique()]\n",
    "products = [x for x in price_by_state['Produto'].unique()]\n",
    "prices = []\n",
    "\n",
    "for state in states:\n",
    "    for product in products:\n",
    "        prices.append([state, product, price_by_state[(price_by_state['Estado - Sigla'] == state) & (price_by_state['Produto'] == product)].mean().values[0]])\n",
    "\n",
    "del price_by_state"
   ]
  },
  {
   "cell_type": "code",
   "execution_count": 5,
   "metadata": {},
   "outputs": [
    {
     "data": {
      "text/plain": [
       "(496226, 3)"
      ]
     },
     "execution_count": 5,
     "metadata": {},
     "output_type": "execute_result"
    }
   ],
   "source": [
    "price_by_state.shape"
   ]
  },
  {
   "cell_type": "code",
   "execution_count": 28,
   "metadata": {},
   "outputs": [],
   "source": [
    "price_by_state = pd.DataFrame({'Estado - Sigla': [x[0] for x in prices], 'Produto': [x[1] for x in prices], 'Preço Médio': [x[2] for x in prices]})\n",
    "price_by_state['Preço Médio'] = price_by_state['Preço Médio'].apply(lambda x: round(x, 2))\n",
    "price_by_state['Preço Médio'].fillna(0, inplace=True)\n",
    "price_by_state = price_by_state.pivot(\"Estado - Sigla\", \"Produto\", \"Preço Médio\")\n",
    "price_by_state.to_csv('datasets/price_by_state.csv', sep=';')"
   ]
  }
 ],
 "metadata": {
  "kernelspec": {
   "display_name": "Python 3",
   "language": "python",
   "name": "python3"
  },
  "language_info": {
   "codemirror_mode": {
    "name": "ipython",
    "version": 3
   },
   "file_extension": ".py",
   "mimetype": "text/x-python",
   "name": "python",
   "nbconvert_exporter": "python",
   "pygments_lexer": "ipython3",
   "version": "3.8.2"
  }
 },
 "nbformat": 4,
 "nbformat_minor": 4
}
