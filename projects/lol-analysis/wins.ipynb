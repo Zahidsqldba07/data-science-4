{
 "cells": [
  {
   "cell_type": "code",
   "execution_count": 26,
   "metadata": {},
   "outputs": [],
   "source": [
    "import pandas as pd"
   ]
  },
  {
   "cell_type": "code",
   "execution_count": 181,
   "metadata": {},
   "outputs": [],
   "source": [
    "df = pd.read_csv('datasets/LeagueofLegends.csv', usecols=['golddiff', 'goldblue', 'goldred', 'bResult', 'rResult', 'bDragons', 'rDragons'])"
   ]
  },
  {
   "cell_type": "code",
   "execution_count": 50,
   "metadata": {},
   "outputs": [
    {
     "data": {
      "text/html": [
       "<div>\n",
       "<style scoped>\n",
       "    .dataframe tbody tr th:only-of-type {\n",
       "        vertical-align: middle;\n",
       "    }\n",
       "\n",
       "    .dataframe tbody tr th {\n",
       "        vertical-align: top;\n",
       "    }\n",
       "\n",
       "    .dataframe thead th {\n",
       "        text-align: right;\n",
       "    }\n",
       "</style>\n",
       "<table border=\"1\" class=\"dataframe\">\n",
       "  <thead>\n",
       "    <tr style=\"text-align: right;\">\n",
       "      <th></th>\n",
       "      <th>bResult</th>\n",
       "      <th>rResult</th>\n",
       "      <th>golddiff</th>\n",
       "      <th>goldblue</th>\n",
       "      <th>bDragons</th>\n",
       "      <th>goldred</th>\n",
       "      <th>rDragons</th>\n",
       "    </tr>\n",
       "  </thead>\n",
       "  <tbody>\n",
       "    <tr>\n",
       "      <th>0</th>\n",
       "      <td>1</td>\n",
       "      <td>0</td>\n",
       "      <td>[0, 0, -14, -65, -268, -431, -488, -789, -494,...</td>\n",
       "      <td>[2415, 2415, 2711, 3887, 5068, 6171, 7412, 866...</td>\n",
       "      <td>[[37.267, None]]</td>\n",
       "      <td>[2415, 2415, 2725, 3952, 5336, 6602, 7900, 945...</td>\n",
       "      <td>[[17.14, None], [30.934, None], [24.641, None]]</td>\n",
       "    </tr>\n",
       "    <tr>\n",
       "      <th>1</th>\n",
       "      <td>0</td>\n",
       "      <td>1</td>\n",
       "      <td>[0, 0, -26, -18, 147, 237, -152, 18, 88, -242,...</td>\n",
       "      <td>[2415, 2415, 2705, 4108, 5511, 6797, 7637, 895...</td>\n",
       "      <td>[[32.545, None], [26.177, None], [19.119, None]]</td>\n",
       "      <td>[2415, 2415, 2731, 4126, 5364, 6560, 7789, 893...</td>\n",
       "      <td>[[12.264, None]]</td>\n",
       "    </tr>\n",
       "    <tr>\n",
       "      <th>2</th>\n",
       "      <td>1</td>\n",
       "      <td>0</td>\n",
       "      <td>[0, 0, 10, -60, 34, 37, 589, 1064, 1258, 913, ...</td>\n",
       "      <td>[2415, 2415, 2726, 3794, 4933, 6236, 8109, 965...</td>\n",
       "      <td>[[24.577, None], [37.867, None], [30.87, None]...</td>\n",
       "      <td>[2415, 2415, 2716, 3854, 4899, 6199, 7520, 859...</td>\n",
       "      <td>[]</td>\n",
       "    </tr>\n",
       "    <tr>\n",
       "      <th>3</th>\n",
       "      <td>0</td>\n",
       "      <td>1</td>\n",
       "      <td>[0, 0, -15, 25, 228, -6, -243, 175, -346, 16, ...</td>\n",
       "      <td>[2415, 2415, 2705, 3847, 5398, 6473, 7720, 930...</td>\n",
       "      <td>[]</td>\n",
       "      <td>[2415, 2415, 2720, 3822, 5170, 6479, 7963, 913...</td>\n",
       "      <td>[[26.274, None], [10.153, None], [18.515, None...</td>\n",
       "    </tr>\n",
       "    <tr>\n",
       "      <th>4</th>\n",
       "      <td>1</td>\n",
       "      <td>0</td>\n",
       "      <td>[40, 40, 44, -36, 113, 158, -121, -191, 23, 20...</td>\n",
       "      <td>[2415, 2415, 2710, 3950, 5404, 6666, 7887, 913...</td>\n",
       "      <td>[[14.589, None], [30.307, None]]</td>\n",
       "      <td>[2375, 2375, 2666, 3986, 5291, 6508, 8008, 932...</td>\n",
       "      <td>[[21.901, None]]</td>\n",
       "    </tr>\n",
       "  </tbody>\n",
       "</table>\n",
       "</div>"
      ],
      "text/plain": [
       "   bResult  rResult                                           golddiff  \\\n",
       "0        1        0  [0, 0, -14, -65, -268, -431, -488, -789, -494,...   \n",
       "1        0        1  [0, 0, -26, -18, 147, 237, -152, 18, 88, -242,...   \n",
       "2        1        0  [0, 0, 10, -60, 34, 37, 589, 1064, 1258, 913, ...   \n",
       "3        0        1  [0, 0, -15, 25, 228, -6, -243, 175, -346, 16, ...   \n",
       "4        1        0  [40, 40, 44, -36, 113, 158, -121, -191, 23, 20...   \n",
       "\n",
       "                                            goldblue  \\\n",
       "0  [2415, 2415, 2711, 3887, 5068, 6171, 7412, 866...   \n",
       "1  [2415, 2415, 2705, 4108, 5511, 6797, 7637, 895...   \n",
       "2  [2415, 2415, 2726, 3794, 4933, 6236, 8109, 965...   \n",
       "3  [2415, 2415, 2705, 3847, 5398, 6473, 7720, 930...   \n",
       "4  [2415, 2415, 2710, 3950, 5404, 6666, 7887, 913...   \n",
       "\n",
       "                                            bDragons  \\\n",
       "0                                   [[37.267, None]]   \n",
       "1   [[32.545, None], [26.177, None], [19.119, None]]   \n",
       "2  [[24.577, None], [37.867, None], [30.87, None]...   \n",
       "3                                                 []   \n",
       "4                   [[14.589, None], [30.307, None]]   \n",
       "\n",
       "                                             goldred  \\\n",
       "0  [2415, 2415, 2725, 3952, 5336, 6602, 7900, 945...   \n",
       "1  [2415, 2415, 2731, 4126, 5364, 6560, 7789, 893...   \n",
       "2  [2415, 2415, 2716, 3854, 4899, 6199, 7520, 859...   \n",
       "3  [2415, 2415, 2720, 3822, 5170, 6479, 7963, 913...   \n",
       "4  [2375, 2375, 2666, 3986, 5291, 6508, 8008, 932...   \n",
       "\n",
       "                                            rDragons  \n",
       "0    [[17.14, None], [30.934, None], [24.641, None]]  \n",
       "1                                   [[12.264, None]]  \n",
       "2                                                 []  \n",
       "3  [[26.274, None], [10.153, None], [18.515, None...  \n",
       "4                                   [[21.901, None]]  "
      ]
     },
     "execution_count": 50,
     "metadata": {},
     "output_type": "execute_result"
    }
   ],
   "source": [
    "df.head()"
   ]
  },
  {
   "cell_type": "code",
   "execution_count": 155,
   "metadata": {},
   "outputs": [],
   "source": [
    "dragons = []\n",
    "for time in range(df.shape[0] - 400):\n",
    "    a = [time for time in [raw.strip(' []').replace('_', '') for raw in df['bDragons'][time].split(',')] if not time.isalpha()]\n",
    "    for x in a:\n",
    "        if not x.isalpha():\n",
    "            dragons.append(len(a))"
   ]
  },
  {
   "cell_type": "code",
   "execution_count": 182,
   "metadata": {},
   "outputs": [],
   "source": [
    "df['goldBlue15min'] = df['goldblue'].apply(lambda x: x.split(', ')[16])\n",
    "df['blueDragons'] = df['bDragons'].apply(lambda x: round((len(x.split(',')) / 2)))\n",
    "df['goldRed15min'] = df['goldred'].apply(lambda x: x.split(', ')[16])\n",
    "df['redDragons'] = df['rDragons'].apply(lambda x: round((len(x.split(',')) / 2)))\n",
    "df['goldDiff15min'] = df['golddiff'].apply(lambda x: x.split(', ')[16])\n",
    "df['winnerSide'] = ['blue' if x == 1 else 'red' for x in df['bResult']]\n",
    "\n",
    "df.drop(columns=['bResult', 'rResult', 'golddiff', 'goldred', 'goldblue', 'bDragons', 'rDragons'], inplace=True)"
   ]
  },
  {
   "cell_type": "code",
   "execution_count": 183,
   "metadata": {},
   "outputs": [
    {
     "data": {
      "text/html": [
       "<div>\n",
       "<style scoped>\n",
       "    .dataframe tbody tr th:only-of-type {\n",
       "        vertical-align: middle;\n",
       "    }\n",
       "\n",
       "    .dataframe tbody tr th {\n",
       "        vertical-align: top;\n",
       "    }\n",
       "\n",
       "    .dataframe thead th {\n",
       "        text-align: right;\n",
       "    }\n",
       "</style>\n",
       "<table border=\"1\" class=\"dataframe\">\n",
       "  <thead>\n",
       "    <tr style=\"text-align: right;\">\n",
       "      <th></th>\n",
       "      <th>goldBlue15min</th>\n",
       "      <th>blueDragons</th>\n",
       "      <th>goldRed15min</th>\n",
       "      <th>redDragons</th>\n",
       "      <th>goldDiff15min</th>\n",
       "      <th>winnerSide</th>\n",
       "    </tr>\n",
       "  </thead>\n",
       "  <tbody>\n",
       "    <tr>\n",
       "      <th>0</th>\n",
       "      <td>22874</td>\n",
       "      <td>1</td>\n",
       "      <td>22634</td>\n",
       "      <td>3</td>\n",
       "      <td>240</td>\n",
       "      <td>blue</td>\n",
       "    </tr>\n",
       "    <tr>\n",
       "      <th>1</th>\n",
       "      <td>23855</td>\n",
       "      <td>3</td>\n",
       "      <td>22366</td>\n",
       "      <td>1</td>\n",
       "      <td>1489</td>\n",
       "      <td>red</td>\n",
       "    </tr>\n",
       "    <tr>\n",
       "      <th>2</th>\n",
       "      <td>24964</td>\n",
       "      <td>4</td>\n",
       "      <td>21338</td>\n",
       "      <td>0</td>\n",
       "      <td>3626</td>\n",
       "      <td>blue</td>\n",
       "    </tr>\n",
       "    <tr>\n",
       "      <th>3</th>\n",
       "      <td>22017</td>\n",
       "      <td>0</td>\n",
       "      <td>21693</td>\n",
       "      <td>4</td>\n",
       "      <td>324</td>\n",
       "      <td>red</td>\n",
       "    </tr>\n",
       "    <tr>\n",
       "      <th>4</th>\n",
       "      <td>22906</td>\n",
       "      <td>2</td>\n",
       "      <td>23331</td>\n",
       "      <td>1</td>\n",
       "      <td>-425</td>\n",
       "      <td>blue</td>\n",
       "    </tr>\n",
       "  </tbody>\n",
       "</table>\n",
       "</div>"
      ],
      "text/plain": [
       "  goldBlue15min  blueDragons goldRed15min  redDragons goldDiff15min winnerSide\n",
       "0         22874            1        22634           3           240       blue\n",
       "1         23855            3        22366           1          1489        red\n",
       "2         24964            4        21338           0          3626       blue\n",
       "3         22017            0        21693           4           324        red\n",
       "4         22906            2        23331           1          -425       blue"
      ]
     },
     "execution_count": 183,
     "metadata": {},
     "output_type": "execute_result"
    }
   ],
   "source": [
    "df.head()"
   ]
  },
  {
   "cell_type": "code",
   "execution_count": 45,
   "metadata": {},
   "outputs": [],
   "source": [
    "gold = pd.read_csv('datasets/gold.csv')"
   ]
  },
  {
   "cell_type": "code",
   "execution_count": 47,
   "metadata": {},
   "outputs": [
    {
     "data": {
      "text/plain": [
       "(7620, 97)"
      ]
     },
     "execution_count": 47,
     "metadata": {},
     "output_type": "execute_result"
    }
   ],
   "source": [
    "gold[gold['Type'] == 'golddiff'].shape"
   ]
  },
  {
   "cell_type": "code",
   "execution_count": null,
   "metadata": {},
   "outputs": [],
   "source": []
  }
 ],
 "metadata": {
  "kernelspec": {
   "display_name": "Python 3",
   "language": "python",
   "name": "python3"
  },
  "language_info": {
   "codemirror_mode": {
    "name": "ipython",
    "version": 3
   },
   "file_extension": ".py",
   "mimetype": "text/x-python",
   "name": "python",
   "nbconvert_exporter": "python",
   "pygments_lexer": "ipython3",
   "version": "3.8.2"
  }
 },
 "nbformat": 4,
 "nbformat_minor": 4
}
