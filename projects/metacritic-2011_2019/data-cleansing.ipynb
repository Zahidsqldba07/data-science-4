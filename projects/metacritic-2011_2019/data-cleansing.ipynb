{
 "cells": [
  {
   "cell_type": "markdown",
   "metadata": {},
   "source": [
    "# Data Cleansing (Limpeza de dados)\n",
    "Para a etapa de data cleansing, serão utilizados os seguintes pacotes: pandas (estruturas de Series e DataFrame), numpy (para tratamento de valores NaN), requests (para efetuação de requisições e processamento das responses) e json (também processamento das responses)."
   ]
  },
  {
   "cell_type": "code",
   "execution_count": 4,
   "metadata": {},
   "outputs": [],
   "source": [
    "import pandas as pd\n",
    "import numpy as np\n",
    "import requests\n",
    "import json"
   ]
  },
  {
   "cell_type": "code",
   "execution_count": 2,
   "metadata": {},
   "outputs": [],
   "source": [
    "games_df = pd.read_csv('datasets/metacritic_games.csv')"
   ]
  },
  {
   "cell_type": "code",
   "execution_count": 5,
   "metadata": {},
   "outputs": [],
   "source": [
    "pd.set_option('display.max_columns', len(games_df))\n",
    "pd.set_option('display.max_rows', 100)"
   ]
  },
  {
   "cell_type": "markdown",
   "metadata": {},
   "source": [
    "### Verificando quais colunas possuem valores nulos ou missing\n",
    "Podemos verificar que as colunas developer, genre, number_players e rating possuem valores faltantes. Colunas como gênero e número de jogadores, para as análises que iremos realizar, não serão relevantes, então tudo bem apresentarem valores missing. Porém, queremos os valores para desenvolvedora e avaliação."
   ]
  },
  {
   "cell_type": "code",
   "execution_count": 6,
   "metadata": {},
   "outputs": [
    {
     "data": {
      "text/plain": [
       "game                False\n",
       "platform            False\n",
       "developer            True\n",
       "genre                True\n",
       "number_players       True\n",
       "rating               True\n",
       "release_date        False\n",
       "positive_critics    False\n",
       "neutral_critics     False\n",
       "negative_critics    False\n",
       "positive_users      False\n",
       "neutral_users       False\n",
       "negative_users      False\n",
       "metascore           False\n",
       "user_score          False\n",
       "dtype: bool"
      ]
     },
     "execution_count": 6,
     "metadata": {},
     "output_type": "execute_result"
    }
   ],
   "source": [
    "games_df.isna().any()"
   ]
  },
  {
   "cell_type": "markdown",
   "metadata": {},
   "source": [
    "### Manipulação dos valores missing\n",
    "Como citado anteriormente, iremos nos preocupar com valores missing presentes nas colunas developer e rating. Por isso, iremos preencher os valores missing com dados obtidos de uma API com informações públicas de videogames chamada IGDB. Devido a estrutura da API, serão criadas três funções: a primeira para obter o id das companhias envolvidas no desenvolvimento a partir do nome do jogo passado como param, a segunda para obter o id da companhia principal envolvida a partir do id das companhias e a terceira para obter o nome propriamente da companhia principal. \n",
    "\n",
    "É importante destacar que a informação acerca da desenvolvedora de quatro jogos não constava nem mesmo na API, então foram preenchidas manualmente."
   ]
  },
  {
   "cell_type": "code",
   "execution_count": 7,
   "metadata": {},
   "outputs": [],
   "source": [
    "def requestInvolvedCompanies(game):\n",
    "    url = \"https://api-v3.igdb.com/games\"\n",
    "    \n",
    "    payload = \"search \\\"{}\\\";\\nfields involved_companies;\\nrelease_date.human;\\nwhere version_parent = null;\".format(game)\n",
    "    \n",
    "    headers = {\n",
    "    'cookie': \"__cfduid=d4bed4e84314697f5dcf282a31e3174bd1593302851\",\n",
    "    'user-key': \"2078e56b79acab9b669a3bd18661c2ba\"\n",
    "    }\n",
    "    \n",
    "    try:\n",
    "        response = requests.request(\"GET\", url, data=payload, headers=headers)\n",
    "    \n",
    "        involved_companies = json.loads(response.text)    \n",
    "        return involved_companies[0]['involved_companies'][0]\n",
    "    \n",
    "    except:\n",
    "        print('Erro durante o jogo {}'.format(game))"
   ]
  },
  {
   "cell_type": "code",
   "execution_count": 8,
   "metadata": {},
   "outputs": [],
   "source": [
    "def requestMainCompany(id_company):\n",
    "    url = \"https://api-v3.igdb.com/involved_companies\"\n",
    "    \n",
    "    payload = \"fields company; where id = {};\\n\".format(id_company)\n",
    "    \n",
    "    headers = {\n",
    "    'cookie': \"__cfduid=d4bed4e84314697f5dcf282a31e3174bd1593302851\",\n",
    "    'user-key': \"2078e56b79acab9b669a3bd18661c2ba\"\n",
    "    }\n",
    "    \n",
    "    try:\n",
    "        response = requests.request(\"GET\", url, data=payload, headers=headers)        \n",
    "        company = json.loads(response.text)\n",
    "    \n",
    "        return company[0]['company']\n",
    "       \n",
    "    except:\n",
    "        print('Erro durante o id_company {}'.format(id_company))"
   ]
  },
  {
   "cell_type": "code",
   "execution_count": 9,
   "metadata": {},
   "outputs": [],
   "source": [
    "def requestDeveloperName(id_developer):\n",
    "    url = \"https://api-v3.igdb.com/companies\"\n",
    "    \n",
    "    payload = \"fields *;\\nwhere id = {};\".format(id_developer)\n",
    "    headers = {\n",
    "    'cookie': \"__cfduid=d4bed4e84314697f5dcf282a31e3174bd1593302851\",\n",
    "    'user-key': \"2078e56b79acab9b669a3bd18661c2ba\"\n",
    "    }\n",
    "    \n",
    "    try:\n",
    "        response = requests.request(\"GET\", url, data=payload, headers=headers)        \n",
    "        developer = json.loads(response.text)[0]\n",
    "        return developer['name']\n",
    "    \n",
    "    except:\n",
    "        print('Erro durante o id_developer {}'.format(id_developer))"
   ]
  },
  {
   "cell_type": "markdown",
   "metadata": {},
   "source": [
    "Podemos verificar as informações de jogos que possuem o valor vazio na coluna developer"
   ]
  },
  {
   "cell_type": "code",
   "execution_count": 10,
   "metadata": {},
   "outputs": [
    {
     "data": {
      "text/html": [
       "<div>\n",
       "<style scoped>\n",
       "    .dataframe tbody tr th:only-of-type {\n",
       "        vertical-align: middle;\n",
       "    }\n",
       "\n",
       "    .dataframe tbody tr th {\n",
       "        vertical-align: top;\n",
       "    }\n",
       "\n",
       "    .dataframe thead th {\n",
       "        text-align: right;\n",
       "    }\n",
       "</style>\n",
       "<table border=\"1\" class=\"dataframe\">\n",
       "  <thead>\n",
       "    <tr style=\"text-align: right;\">\n",
       "      <th></th>\n",
       "      <th>game</th>\n",
       "      <th>platform</th>\n",
       "      <th>developer</th>\n",
       "      <th>genre</th>\n",
       "      <th>number_players</th>\n",
       "      <th>rating</th>\n",
       "      <th>release_date</th>\n",
       "      <th>positive_critics</th>\n",
       "      <th>neutral_critics</th>\n",
       "      <th>negative_critics</th>\n",
       "      <th>positive_users</th>\n",
       "      <th>neutral_users</th>\n",
       "      <th>negative_users</th>\n",
       "      <th>metascore</th>\n",
       "      <th>user_score</th>\n",
       "    </tr>\n",
       "  </thead>\n",
       "  <tbody>\n",
       "    <tr>\n",
       "      <th>258</th>\n",
       "      <td>Harry Potter and the Deathly Hallows, Part 2</td>\n",
       "      <td>PC</td>\n",
       "      <td>NaN</td>\n",
       "      <td>Action</td>\n",
       "      <td>NaN</td>\n",
       "      <td>T</td>\n",
       "      <td>Jul 12, 2011</td>\n",
       "      <td>1</td>\n",
       "      <td>1</td>\n",
       "      <td>10</td>\n",
       "      <td>8</td>\n",
       "      <td>0</td>\n",
       "      <td>8</td>\n",
       "      <td>43</td>\n",
       "      <td>46</td>\n",
       "    </tr>\n",
       "    <tr>\n",
       "      <th>620</th>\n",
       "      <td>Cannon Fodder 3</td>\n",
       "      <td>PC</td>\n",
       "      <td>NaN</td>\n",
       "      <td>Strategy</td>\n",
       "      <td>1 Player</td>\n",
       "      <td>NaN</td>\n",
       "      <td>Feb  9, 2012</td>\n",
       "      <td>1</td>\n",
       "      <td>6</td>\n",
       "      <td>3</td>\n",
       "      <td>0</td>\n",
       "      <td>1</td>\n",
       "      <td>1</td>\n",
       "      <td>49</td>\n",
       "      <td>57</td>\n",
       "    </tr>\n",
       "    <tr>\n",
       "      <th>1103</th>\n",
       "      <td>Seduce Me</td>\n",
       "      <td>PC</td>\n",
       "      <td>NaN</td>\n",
       "      <td>Strategy</td>\n",
       "      <td>1 Player</td>\n",
       "      <td>AO</td>\n",
       "      <td>Jan  2, 2013</td>\n",
       "      <td>0</td>\n",
       "      <td>5</td>\n",
       "      <td>7</td>\n",
       "      <td>2</td>\n",
       "      <td>0</td>\n",
       "      <td>4</td>\n",
       "      <td>41</td>\n",
       "      <td>34</td>\n",
       "    </tr>\n",
       "    <tr>\n",
       "      <th>1434</th>\n",
       "      <td>Outlast: Whistleblower</td>\n",
       "      <td>PC</td>\n",
       "      <td>NaN</td>\n",
       "      <td>Action Adventure</td>\n",
       "      <td>NaN</td>\n",
       "      <td>M</td>\n",
       "      <td>May  6, 2014</td>\n",
       "      <td>6</td>\n",
       "      <td>6</td>\n",
       "      <td>0</td>\n",
       "      <td>20</td>\n",
       "      <td>5</td>\n",
       "      <td>3</td>\n",
       "      <td>73</td>\n",
       "      <td>79</td>\n",
       "    </tr>\n",
       "    <tr>\n",
       "      <th>1562</th>\n",
       "      <td>Dead Nation</td>\n",
       "      <td>VITA</td>\n",
       "      <td>NaN</td>\n",
       "      <td>Action</td>\n",
       "      <td>NaN</td>\n",
       "      <td>M</td>\n",
       "      <td>Apr 15, 2014</td>\n",
       "      <td>6</td>\n",
       "      <td>8</td>\n",
       "      <td>0</td>\n",
       "      <td>4</td>\n",
       "      <td>1</td>\n",
       "      <td>4</td>\n",
       "      <td>68</td>\n",
       "      <td>79</td>\n",
       "    </tr>\n",
       "    <tr>\n",
       "      <th>1609</th>\n",
       "      <td>Memento Mori 2</td>\n",
       "      <td>PC</td>\n",
       "      <td>NaN</td>\n",
       "      <td>NaN</td>\n",
       "      <td>NaN</td>\n",
       "      <td>NaN</td>\n",
       "      <td>May 13, 2014</td>\n",
       "      <td>0</td>\n",
       "      <td>0</td>\n",
       "      <td>0</td>\n",
       "      <td>0</td>\n",
       "      <td>0</td>\n",
       "      <td>0</td>\n",
       "      <td>65</td>\n",
       "      <td>75</td>\n",
       "    </tr>\n",
       "    <tr>\n",
       "      <th>1818</th>\n",
       "      <td>Destiny: The Taken King</td>\n",
       "      <td>PS4</td>\n",
       "      <td>NaN</td>\n",
       "      <td>NaN</td>\n",
       "      <td>NaN</td>\n",
       "      <td>NaN</td>\n",
       "      <td>Sep 15, 2015</td>\n",
       "      <td>0</td>\n",
       "      <td>0</td>\n",
       "      <td>0</td>\n",
       "      <td>0</td>\n",
       "      <td>0</td>\n",
       "      <td>0</td>\n",
       "      <td>86</td>\n",
       "      <td>62</td>\n",
       "    </tr>\n",
       "    <tr>\n",
       "      <th>3500</th>\n",
       "      <td>NightCry</td>\n",
       "      <td>PC</td>\n",
       "      <td>NaN</td>\n",
       "      <td>NaN</td>\n",
       "      <td>NaN</td>\n",
       "      <td>NaN</td>\n",
       "      <td>Mar 28, 2016</td>\n",
       "      <td>0</td>\n",
       "      <td>0</td>\n",
       "      <td>0</td>\n",
       "      <td>0</td>\n",
       "      <td>0</td>\n",
       "      <td>0</td>\n",
       "      <td>46</td>\n",
       "      <td>30</td>\n",
       "    </tr>\n",
       "    <tr>\n",
       "      <th>5520</th>\n",
       "      <td>Wild West Online</td>\n",
       "      <td>PC</td>\n",
       "      <td>NaN</td>\n",
       "      <td>Role-Playing</td>\n",
       "      <td>Online Multiplayer</td>\n",
       "      <td>NaN</td>\n",
       "      <td>May 10, 2018</td>\n",
       "      <td>0</td>\n",
       "      <td>0</td>\n",
       "      <td>8</td>\n",
       "      <td>0</td>\n",
       "      <td>0</td>\n",
       "      <td>8</td>\n",
       "      <td>29</td>\n",
       "      <td>1</td>\n",
       "    </tr>\n",
       "  </tbody>\n",
       "</table>\n",
       "</div>"
      ],
      "text/plain": [
       "                                              game platform developer  \\\n",
       "258   Harry Potter and the Deathly Hallows, Part 2       PC       NaN   \n",
       "620                                Cannon Fodder 3       PC       NaN   \n",
       "1103                                     Seduce Me       PC       NaN   \n",
       "1434                        Outlast: Whistleblower       PC       NaN   \n",
       "1562                                   Dead Nation     VITA       NaN   \n",
       "1609                                Memento Mori 2       PC       NaN   \n",
       "1818                       Destiny: The Taken King      PS4       NaN   \n",
       "3500                                      NightCry       PC       NaN   \n",
       "5520                              Wild West Online       PC       NaN   \n",
       "\n",
       "                 genre      number_players rating  release_date  \\\n",
       "258             Action                 NaN      T  Jul 12, 2011   \n",
       "620           Strategy            1 Player    NaN  Feb  9, 2012   \n",
       "1103          Strategy            1 Player     AO  Jan  2, 2013   \n",
       "1434  Action Adventure                 NaN      M  May  6, 2014   \n",
       "1562            Action                 NaN      M  Apr 15, 2014   \n",
       "1609               NaN                 NaN    NaN  May 13, 2014   \n",
       "1818               NaN                 NaN    NaN  Sep 15, 2015   \n",
       "3500               NaN                 NaN    NaN  Mar 28, 2016   \n",
       "5520      Role-Playing  Online Multiplayer    NaN  May 10, 2018   \n",
       "\n",
       "      positive_critics  neutral_critics  negative_critics  positive_users  \\\n",
       "258                  1                1                10               8   \n",
       "620                  1                6                 3               0   \n",
       "1103                 0                5                 7               2   \n",
       "1434                 6                6                 0              20   \n",
       "1562                 6                8                 0               4   \n",
       "1609                 0                0                 0               0   \n",
       "1818                 0                0                 0               0   \n",
       "3500                 0                0                 0               0   \n",
       "5520                 0                0                 8               0   \n",
       "\n",
       "      neutral_users  negative_users  metascore  user_score  \n",
       "258               0               8         43          46  \n",
       "620               1               1         49          57  \n",
       "1103              0               4         41          34  \n",
       "1434              5               3         73          79  \n",
       "1562              1               4         68          79  \n",
       "1609              0               0         65          75  \n",
       "1818              0               0         86          62  \n",
       "3500              0               0         46          30  \n",
       "5520              0               8         29           1  "
      ]
     },
     "execution_count": 10,
     "metadata": {},
     "output_type": "execute_result"
    }
   ],
   "source": [
    "games_df[games_df['developer'].isna()]"
   ]
  },
  {
   "cell_type": "markdown",
   "metadata": {},
   "source": [
    "Para mais tarde processarmos os valores missing da coluna developer, será criada uma Series que irá conter todos os jogos que não possuem uma desenvolvedora atrelada. "
   ]
  },
  {
   "cell_type": "code",
   "execution_count": 11,
   "metadata": {},
   "outputs": [
    {
     "data": {
      "text/plain": [
       "258     Harry Potter and the Deathly Hallows, Part 2\n",
       "620                                  Cannon Fodder 3\n",
       "1103                                       Seduce Me\n",
       "1434                          Outlast: Whistleblower\n",
       "1562                                     Dead Nation\n",
       "1609                                  Memento Mori 2\n",
       "1818                         Destiny: The Taken King\n",
       "3500                                        NightCry\n",
       "5520                                Wild West Online\n",
       "Name: game, dtype: object"
      ]
     },
     "execution_count": 11,
     "metadata": {},
     "output_type": "execute_result"
    }
   ],
   "source": [
    "games = games_df[games_df['developer'].isna()]['game']\n",
    "games"
   ]
  },
  {
   "cell_type": "markdown",
   "metadata": {},
   "source": [
    "Com nossas funções de acesso aos dados da API, podemos então percorrer os dados de nome do jogo do nosso dataframe e substituir os valores missing em nome da desenvolvedora"
   ]
  },
  {
   "cell_type": "code",
   "execution_count": 12,
   "metadata": {},
   "outputs": [
    {
     "data": {
      "text/plain": [
       "['Electronic Arts',\n",
       " 'Burut CT',\n",
       " 'No Reply Games',\n",
       " 'Red Barrels',\n",
       " 'Housemarque',\n",
       " 'Centauri Production',\n",
       " 'Bungie',\n",
       " 'Nude Maker',\n",
       " '612 Games']"
      ]
     },
     "execution_count": 12,
     "metadata": {},
     "output_type": "execute_result"
    }
   ],
   "source": [
    "devs = list()\n",
    "\n",
    "for game in games:\n",
    "    id_company = requestInvolvedCompanies(game)\n",
    "    id_developer = requestMainCompany(id_company)\n",
    "    developer_name = requestDeveloperName(id_developer)\n",
    "    devs.append(developer_name)\n",
    "    \n",
    "print(devs)"
   ]
  },
  {
   "cell_type": "markdown",
   "metadata": {},
   "source": [
    "Com os nomes das desenvolvedoras que antes estavam ausentes em mãos, podemos então atribuir cada uma ao seu devido lugar (ou jogo). Para isso, usaremos uma estrutura numérica do pandas que irá servir de container para os índices de cada jogo que não possui uma desenvolvedora atrelada. "
   ]
  },
  {
   "cell_type": "code",
   "execution_count": 13,
   "metadata": {},
   "outputs": [
    {
     "name": "stdout",
     "output_type": "stream",
     "text": [
      "Int64Index([258, 620, 1103, 1434, 1562, 1609, 1818, 3500, 5520], dtype='int64')\n"
     ]
    }
   ],
   "source": [
    "index_missing = games_df[games_df['developer'].isna()].index\n",
    "print(index_missing)"
   ]
  },
  {
   "cell_type": "markdown",
   "metadata": {},
   "source": [
    "Após isso, iremos percorrer a lista de índices, passando cada índice como parâmetro para o método `iloc[]` do DataFrame e como valor o índice correspondente na lista de developers."
   ]
  },
  {
   "cell_type": "code",
   "execution_count": 15,
   "metadata": {},
   "outputs": [
    {
     "name": "stderr",
     "output_type": "stream",
     "text": [
      "/home/wabbajack/data-science/data-science-env/lib/python3.8/site-packages/pandas/core/indexing.py:671: SettingWithCopyWarning: \n",
      "A value is trying to be set on a copy of a slice from a DataFrame\n",
      "\n",
      "See the caveats in the documentation: https://pandas.pydata.org/pandas-docs/stable/user_guide/indexing.html#returning-a-view-versus-a-copy\n",
      "  self._setitem_with_indexer(indexer, value)\n"
     ]
    }
   ],
   "source": [
    "iterator = 0\n",
    "while iterator < len(index_missing):\n",
    "    games_df['developer'].iloc[index_missing[iterator]] = devs[iterator]\n",
    "    iterator +=1"
   ]
  },
  {
   "cell_type": "markdown",
   "metadata": {},
   "source": [
    "Vamos mais uma vez verificar as informações de jogos que possuíam valores missing, em busca de eventuais remanescentes."
   ]
  },
  {
   "cell_type": "code",
   "execution_count": 16,
   "metadata": {},
   "outputs": [
    {
     "data": {
      "text/html": [
       "<div>\n",
       "<style scoped>\n",
       "    .dataframe tbody tr th:only-of-type {\n",
       "        vertical-align: middle;\n",
       "    }\n",
       "\n",
       "    .dataframe tbody tr th {\n",
       "        vertical-align: top;\n",
       "    }\n",
       "\n",
       "    .dataframe thead th {\n",
       "        text-align: right;\n",
       "    }\n",
       "</style>\n",
       "<table border=\"1\" class=\"dataframe\">\n",
       "  <thead>\n",
       "    <tr style=\"text-align: right;\">\n",
       "      <th></th>\n",
       "      <th>game</th>\n",
       "      <th>platform</th>\n",
       "      <th>developer</th>\n",
       "      <th>genre</th>\n",
       "      <th>number_players</th>\n",
       "      <th>rating</th>\n",
       "      <th>release_date</th>\n",
       "      <th>positive_critics</th>\n",
       "      <th>neutral_critics</th>\n",
       "      <th>negative_critics</th>\n",
       "      <th>positive_users</th>\n",
       "      <th>neutral_users</th>\n",
       "      <th>negative_users</th>\n",
       "      <th>metascore</th>\n",
       "      <th>user_score</th>\n",
       "    </tr>\n",
       "  </thead>\n",
       "  <tbody>\n",
       "  </tbody>\n",
       "</table>\n",
       "</div>"
      ],
      "text/plain": [
       "Empty DataFrame\n",
       "Columns: [game, platform, developer, genre, number_players, rating, release_date, positive_critics, neutral_critics, negative_critics, positive_users, neutral_users, negative_users, metascore, user_score]\n",
       "Index: []"
      ]
     },
     "execution_count": 16,
     "metadata": {},
     "output_type": "execute_result"
    }
   ],
   "source": [
    "games_df[games_df['developer'].isna()]"
   ]
  },
  {
   "cell_type": "markdown",
   "metadata": {},
   "source": [
    "É possível confirmar que o DataFrame que deveria conter a relação de jogos que não possuem uma desenvolvedora está vazio, ou seja, o nome da desenvolvedora foi atribuído corretamente ao seu jogo correspondente! Cheers =)"
   ]
  },
  {
   "cell_type": "code",
   "execution_count": 18,
   "metadata": {},
   "outputs": [],
   "source": [
    "games_df.to_csv('datasets/cleaned_metacritic.csv', sep=';')"
   ]
  }
 ],
 "metadata": {
  "kernelspec": {
   "display_name": "Python 3",
   "language": "python",
   "name": "python3"
  },
  "language_info": {
   "codemirror_mode": {
    "name": "ipython",
    "version": 3
   },
   "file_extension": ".py",
   "mimetype": "text/x-python",
   "name": "python",
   "nbconvert_exporter": "python",
   "pygments_lexer": "ipython3",
   "version": "3.8.2"
  }
 },
 "nbformat": 4,
 "nbformat_minor": 4
}
