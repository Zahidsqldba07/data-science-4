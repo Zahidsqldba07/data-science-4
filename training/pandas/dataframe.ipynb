{
 "cells": [
  {
   "cell_type": "code",
   "execution_count": 1,
   "metadata": {},
   "outputs": [],
   "source": [
    "import pandas as pd\n",
    "import numpy as np"
   ]
  },
  {
   "cell_type": "markdown",
   "metadata": {},
   "source": [
    "O DataFrame é uma estrutura muito similar a Series, porém pode possuir mais de uma coluna. Ele pode ser construído através de um dicionário."
   ]
  },
  {
   "cell_type": "code",
   "execution_count": 2,
   "metadata": {},
   "outputs": [
    {
     "data": {
      "text/html": [
       "<div>\n",
       "<style scoped>\n",
       "    .dataframe tbody tr th:only-of-type {\n",
       "        vertical-align: middle;\n",
       "    }\n",
       "\n",
       "    .dataframe tbody tr th {\n",
       "        vertical-align: top;\n",
       "    }\n",
       "\n",
       "    .dataframe thead th {\n",
       "        text-align: right;\n",
       "    }\n",
       "</style>\n",
       "<table border=\"1\" class=\"dataframe\">\n",
       "  <thead>\n",
       "    <tr style=\"text-align: right;\">\n",
       "      <th></th>\n",
       "      <th>name</th>\n",
       "      <th>key</th>\n",
       "      <th>age</th>\n",
       "    </tr>\n",
       "  </thead>\n",
       "  <tbody>\n",
       "    <tr>\n",
       "      <th>0</th>\n",
       "      <td>anne</td>\n",
       "      <td>1</td>\n",
       "      <td>21</td>\n",
       "    </tr>\n",
       "    <tr>\n",
       "      <th>1</th>\n",
       "      <td>john</td>\n",
       "      <td>2</td>\n",
       "      <td>33</td>\n",
       "    </tr>\n",
       "    <tr>\n",
       "      <th>2</th>\n",
       "      <td>kate</td>\n",
       "      <td>3</td>\n",
       "      <td>14</td>\n",
       "    </tr>\n",
       "  </tbody>\n",
       "</table>\n",
       "</div>"
      ],
      "text/plain": [
       "   name  key  age\n",
       "0  anne    1   21\n",
       "1  john    2   33\n",
       "2  kate    3   14"
      ]
     },
     "execution_count": 2,
     "metadata": {},
     "output_type": "execute_result"
    }
   ],
   "source": [
    "df = pd.DataFrame({'name': ['anne', 'john', 'kate'], 'key': [1,2,3], 'age': [21,33,14]})\n",
    "df"
   ]
  },
  {
   "cell_type": "markdown",
   "metadata": {},
   "source": [
    "Para se consultar as colunas de um dataframe, pode-se usar uma sintaxe semelhante ao slicing, porém, passando o nome da coluna. Por exemplo, se quisermos saber todos os nomes na coluna \"name\"."
   ]
  },
  {
   "cell_type": "code",
   "execution_count": 3,
   "metadata": {},
   "outputs": [
    {
     "data": {
      "text/plain": [
       "0    anne\n",
       "1    john\n",
       "2    kate\n",
       "Name: name, dtype: object"
      ]
     },
     "execution_count": 3,
     "metadata": {},
     "output_type": "execute_result"
    }
   ],
   "source": [
    "df['name']"
   ]
  },
  {
   "cell_type": "markdown",
   "metadata": {},
   "source": [
    "### Atributos do DataFrame"
   ]
  },
  {
   "cell_type": "code",
   "execution_count": 4,
   "metadata": {},
   "outputs": [
    {
     "data": {
      "text/plain": [
       "name    object\n",
       "key      int64\n",
       "age      int64\n",
       "dtype: object"
      ]
     },
     "execution_count": 4,
     "metadata": {},
     "output_type": "execute_result"
    }
   ],
   "source": [
    "# Verificar o tipo de dado presente nas colunas do dataframe\n",
    "df.dtypes"
   ]
  },
  {
   "cell_type": "code",
   "execution_count": 5,
   "metadata": {},
   "outputs": [
    {
     "data": {
      "text/plain": [
       "RangeIndex(start=0, stop=3, step=1)"
      ]
     },
     "execution_count": 5,
     "metadata": {},
     "output_type": "execute_result"
    }
   ],
   "source": [
    "# Verificar o index do dataframe\n",
    "df.index"
   ]
  },
  {
   "cell_type": "code",
   "execution_count": 6,
   "metadata": {},
   "outputs": [
    {
     "data": {
      "text/plain": [
       "Index(['name', 'key', 'age'], dtype='object')"
      ]
     },
     "execution_count": 6,
     "metadata": {},
     "output_type": "execute_result"
    }
   ],
   "source": [
    "# Verificar o nome das colunas do dataframe\n",
    "df.columns"
   ]
  },
  {
   "cell_type": "code",
   "execution_count": 7,
   "metadata": {},
   "outputs": [
    {
     "data": {
      "text/plain": [
       "(3, 3)"
      ]
     },
     "execution_count": 7,
     "metadata": {},
     "output_type": "execute_result"
    }
   ],
   "source": [
    "# Verifica o formato do dataframe\n",
    "df.shape"
   ]
  },
  {
   "cell_type": "markdown",
   "metadata": {},
   "source": [
    "### Métodos do DataFrame\n",
    "\n",
    "Para demonstrar alguns métodos do DataFrame, importaremos um arquivo csv com a função `read_csv()`"
   ]
  },
  {
   "cell_type": "code",
   "execution_count": 8,
   "metadata": {},
   "outputs": [],
   "source": [
    "salarios = pd.read_csv('salarios.csv')"
   ]
  },
  {
   "cell_type": "code",
   "execution_count": 18,
   "metadata": {},
   "outputs": [
    {
     "data": {
      "text/plain": [
       "(32181, 4)"
      ]
     },
     "execution_count": 18,
     "metadata": {},
     "output_type": "execute_result"
    }
   ],
   "source": [
    "salarios.shape"
   ]
  },
  {
   "cell_type": "markdown",
   "metadata": {},
   "source": [
    "O método head() fornece uma visão do início do DataFrame, sendo o número default de linhas 5. É possível passar o número de linhas na chamada do método."
   ]
  },
  {
   "cell_type": "code",
   "execution_count": 9,
   "metadata": {},
   "outputs": [
    {
     "data": {
      "text/html": [
       "<div>\n",
       "<style scoped>\n",
       "    .dataframe tbody tr th:only-of-type {\n",
       "        vertical-align: middle;\n",
       "    }\n",
       "\n",
       "    .dataframe tbody tr th {\n",
       "        vertical-align: top;\n",
       "    }\n",
       "\n",
       "    .dataframe thead th {\n",
       "        text-align: right;\n",
       "    }\n",
       "</style>\n",
       "<table border=\"1\" class=\"dataframe\">\n",
       "  <thead>\n",
       "    <tr style=\"text-align: right;\">\n",
       "      <th></th>\n",
       "      <th>Name</th>\n",
       "      <th>Position Title</th>\n",
       "      <th>Department</th>\n",
       "      <th>Employee Annual Salary</th>\n",
       "    </tr>\n",
       "  </thead>\n",
       "  <tbody>\n",
       "    <tr>\n",
       "      <th>0</th>\n",
       "      <td>AARON,  ELVIA J</td>\n",
       "      <td>WATER RATE TAKER</td>\n",
       "      <td>WATER MGMNT</td>\n",
       "      <td>$88965.00</td>\n",
       "    </tr>\n",
       "    <tr>\n",
       "      <th>1</th>\n",
       "      <td>AARON,  JEFFERY M</td>\n",
       "      <td>POLICE OFFICER</td>\n",
       "      <td>POLICE</td>\n",
       "      <td>$80778.00</td>\n",
       "    </tr>\n",
       "    <tr>\n",
       "      <th>2</th>\n",
       "      <td>AARON,  KARINA</td>\n",
       "      <td>POLICE OFFICER</td>\n",
       "      <td>POLICE</td>\n",
       "      <td>$80778.00</td>\n",
       "    </tr>\n",
       "    <tr>\n",
       "      <th>3</th>\n",
       "      <td>AARON,  KIMBERLEI R</td>\n",
       "      <td>CHIEF CONTRACT EXPEDITER</td>\n",
       "      <td>GENERAL SERVICES</td>\n",
       "      <td>$84780.00</td>\n",
       "    </tr>\n",
       "    <tr>\n",
       "      <th>4</th>\n",
       "      <td>ABAD JR,  VICENTE M</td>\n",
       "      <td>CIVIL ENGINEER IV</td>\n",
       "      <td>WATER MGMNT</td>\n",
       "      <td>$104736.00</td>\n",
       "    </tr>\n",
       "  </tbody>\n",
       "</table>\n",
       "</div>"
      ],
      "text/plain": [
       "                  Name            Position Title        Department  \\\n",
       "0      AARON,  ELVIA J          WATER RATE TAKER       WATER MGMNT   \n",
       "1    AARON,  JEFFERY M            POLICE OFFICER            POLICE   \n",
       "2       AARON,  KARINA            POLICE OFFICER            POLICE   \n",
       "3  AARON,  KIMBERLEI R  CHIEF CONTRACT EXPEDITER  GENERAL SERVICES   \n",
       "4  ABAD JR,  VICENTE M         CIVIL ENGINEER IV       WATER MGMNT   \n",
       "\n",
       "  Employee Annual Salary  \n",
       "0              $88965.00  \n",
       "1              $80778.00  \n",
       "2              $80778.00  \n",
       "3              $84780.00  \n",
       "4             $104736.00  "
      ]
     },
     "execution_count": 9,
     "metadata": {},
     "output_type": "execute_result"
    }
   ],
   "source": [
    "salarios.head()"
   ]
  },
  {
   "cell_type": "markdown",
   "metadata": {},
   "source": [
    "Devido ao fato de existirem alguns valores NaN dentro do nosso dataset, para este caso, iremos remover as linhas que contenham esses valores"
   ]
  },
  {
   "cell_type": "code",
   "execution_count": 12,
   "metadata": {},
   "outputs": [],
   "source": [
    "salarios.dropna(inplace=True)"
   ]
  },
  {
   "cell_type": "markdown",
   "metadata": {},
   "source": [
    "Verificando o tipo de dado de cada coluna do DataFrame."
   ]
  },
  {
   "cell_type": "code",
   "execution_count": 15,
   "metadata": {},
   "outputs": [
    {
     "data": {
      "text/plain": [
       "Name                       object\n",
       "Position Title             object\n",
       "Department                 object\n",
       "Employee Annual Salary    float64\n",
       "dtype: object"
      ]
     },
     "execution_count": 15,
     "metadata": {},
     "output_type": "execute_result"
    }
   ],
   "source": [
    "salarios.dtypes"
   ]
  },
  {
   "cell_type": "markdown",
   "metadata": {},
   "source": [
    "### Queries dentro de um DataFrame"
   ]
  },
  {
   "cell_type": "markdown",
   "metadata": {},
   "source": [
    "Para fazermos a consulta, precisamos converter os dados da coluna referente ao salário anual do empregado do tipo str para float."
   ]
  },
  {
   "cell_type": "code",
   "execution_count": null,
   "metadata": {},
   "outputs": [],
   "source": [
    "salarios['Employee Annual Salary'] = salarios['Employee Annual Salary'].apply(lambda x: float(x[1:]))"
   ]
  },
  {
   "cell_type": "markdown",
   "metadata": {},
   "source": [
    "Checando novamente os tipos de dados do DataFrame."
   ]
  },
  {
   "cell_type": "code",
   "execution_count": 17,
   "metadata": {},
   "outputs": [
    {
     "data": {
      "text/plain": [
       "Name                       object\n",
       "Position Title             object\n",
       "Department                 object\n",
       "Employee Annual Salary    float64\n",
       "dtype: object"
      ]
     },
     "execution_count": 17,
     "metadata": {},
     "output_type": "execute_result"
    }
   ],
   "source": [
    "salarios.dtypes"
   ]
  },
  {
   "cell_type": "markdown",
   "metadata": {},
   "source": [
    "Para realizar consultas (queries) dentro de um DataFrame, podemos utilizar do artifício conhecido como mascaramento booleano. Para demonstrá-lo, vamos consultar os registros de pessoas que trabalham no departamento de polícia e recebem mais que 85 mil dólares anuais."
   ]
  },
  {
   "cell_type": "code",
   "execution_count": 16,
   "metadata": {},
   "outputs": [
    {
     "data": {
      "text/html": [
       "<div>\n",
       "<style scoped>\n",
       "    .dataframe tbody tr th:only-of-type {\n",
       "        vertical-align: middle;\n",
       "    }\n",
       "\n",
       "    .dataframe tbody tr th {\n",
       "        vertical-align: top;\n",
       "    }\n",
       "\n",
       "    .dataframe thead th {\n",
       "        text-align: right;\n",
       "    }\n",
       "</style>\n",
       "<table border=\"1\" class=\"dataframe\">\n",
       "  <thead>\n",
       "    <tr style=\"text-align: right;\">\n",
       "      <th></th>\n",
       "      <th>Name</th>\n",
       "      <th>Position Title</th>\n",
       "      <th>Department</th>\n",
       "      <th>Employee Annual Salary</th>\n",
       "    </tr>\n",
       "  </thead>\n",
       "  <tbody>\n",
       "    <tr>\n",
       "      <th>9</th>\n",
       "      <td>ABBATE,  TERRY M</td>\n",
       "      <td>POLICE OFFICER</td>\n",
       "      <td>POLICE</td>\n",
       "      <td>86520.0</td>\n",
       "    </tr>\n",
       "    <tr>\n",
       "      <th>24</th>\n",
       "      <td>ABEJERO,  JASON V</td>\n",
       "      <td>POLICE OFFICER</td>\n",
       "      <td>POLICE</td>\n",
       "      <td>86520.0</td>\n",
       "    </tr>\n",
       "    <tr>\n",
       "      <th>34</th>\n",
       "      <td>ABRAMS,  HENRY L</td>\n",
       "      <td>POLICE OFFICER</td>\n",
       "      <td>POLICE</td>\n",
       "      <td>92316.0</td>\n",
       "    </tr>\n",
       "    <tr>\n",
       "      <th>44</th>\n",
       "      <td>ABRON,  FLOYD</td>\n",
       "      <td>POLICE OFFICER</td>\n",
       "      <td>POLICE</td>\n",
       "      <td>86520.0</td>\n",
       "    </tr>\n",
       "    <tr>\n",
       "      <th>46</th>\n",
       "      <td>ABSTON,  KATHY A</td>\n",
       "      <td>POLICE OFFICER</td>\n",
       "      <td>POLICE</td>\n",
       "      <td>89718.0</td>\n",
       "    </tr>\n",
       "    <tr>\n",
       "      <th>...</th>\n",
       "      <td>...</td>\n",
       "      <td>...</td>\n",
       "      <td>...</td>\n",
       "      <td>...</td>\n",
       "    </tr>\n",
       "    <tr>\n",
       "      <th>32144</th>\n",
       "      <td>ZULLO,  GREGORY G</td>\n",
       "      <td>POLICE OFFICER</td>\n",
       "      <td>POLICE</td>\n",
       "      <td>89718.0</td>\n",
       "    </tr>\n",
       "    <tr>\n",
       "      <th>32154</th>\n",
       "      <td>ZUNIGA,  RONALD</td>\n",
       "      <td>POLICE OFFICER</td>\n",
       "      <td>POLICE</td>\n",
       "      <td>86520.0</td>\n",
       "    </tr>\n",
       "    <tr>\n",
       "      <th>32164</th>\n",
       "      <td>ZURAWSKI,  MARY E</td>\n",
       "      <td>POLICE OFFICER</td>\n",
       "      <td>POLICE</td>\n",
       "      <td>89718.0</td>\n",
       "    </tr>\n",
       "    <tr>\n",
       "      <th>32177</th>\n",
       "      <td>ZYGOWICZ,  PETER J</td>\n",
       "      <td>POLICE OFFICER</td>\n",
       "      <td>POLICE</td>\n",
       "      <td>86520.0</td>\n",
       "    </tr>\n",
       "    <tr>\n",
       "      <th>32179</th>\n",
       "      <td>ZYRKOWSKI,  CARLO E</td>\n",
       "      <td>POLICE OFFICER</td>\n",
       "      <td>POLICE</td>\n",
       "      <td>86520.0</td>\n",
       "    </tr>\n",
       "  </tbody>\n",
       "</table>\n",
       "<p>6747 rows × 4 columns</p>\n",
       "</div>"
      ],
      "text/plain": [
       "                      Name  Position Title Department  Employee Annual Salary\n",
       "9         ABBATE,  TERRY M  POLICE OFFICER     POLICE                 86520.0\n",
       "24       ABEJERO,  JASON V  POLICE OFFICER     POLICE                 86520.0\n",
       "34        ABRAMS,  HENRY L  POLICE OFFICER     POLICE                 92316.0\n",
       "44           ABRON,  FLOYD  POLICE OFFICER     POLICE                 86520.0\n",
       "46        ABSTON,  KATHY A  POLICE OFFICER     POLICE                 89718.0\n",
       "...                    ...             ...        ...                     ...\n",
       "32144    ZULLO,  GREGORY G  POLICE OFFICER     POLICE                 89718.0\n",
       "32154      ZUNIGA,  RONALD  POLICE OFFICER     POLICE                 86520.0\n",
       "32164    ZURAWSKI,  MARY E  POLICE OFFICER     POLICE                 89718.0\n",
       "32177   ZYGOWICZ,  PETER J  POLICE OFFICER     POLICE                 86520.0\n",
       "32179  ZYRKOWSKI,  CARLO E  POLICE OFFICER     POLICE                 86520.0\n",
       "\n",
       "[6747 rows x 4 columns]"
      ]
     },
     "execution_count": 16,
     "metadata": {},
     "output_type": "execute_result"
    }
   ],
   "source": [
    "salarios[(salarios['Department'] == 'POLICE') & (salarios['Employee Annual Salary'] > 85000)]"
   ]
  },
  {
   "cell_type": "markdown",
   "metadata": {},
   "source": [
    "Segundo o resultado do DataFrame, dos 32181 registros, 6747 são policiais e recebem mais do que 85 mil dólares anuais. As possibilidades para obtenção de insights dos mais variados tendem ao infinito (ou quem sabe próximo dele)."
   ]
  },
  {
   "cell_type": "markdown",
   "metadata": {},
   "source": [
    "### Indexação de DataFrames"
   ]
  },
  {
   "cell_type": "markdown",
   "metadata": {},
   "source": [
    "É possível visualizar qual coluna representa o índice do DataFrame com `df.index`."
   ]
  },
  {
   "cell_type": "code",
   "execution_count": 21,
   "metadata": {},
   "outputs": [
    {
     "data": {
      "text/plain": [
       "Int64Index([    0,     1,     2,     3,     4,     5,     6,     7,     8,\n",
       "                9,\n",
       "            ...\n",
       "            32171, 32172, 32173, 32174, 32175, 32176, 32177, 32178, 32179,\n",
       "            32180],\n",
       "           dtype='int64', length=32181)"
      ]
     },
     "execution_count": 21,
     "metadata": {},
     "output_type": "execute_result"
    }
   ],
   "source": [
    "salarios.index"
   ]
  },
  {
   "cell_type": "markdown",
   "metadata": {},
   "source": [
    "É possível atribuir uma lista de colunas para o \"papel\" de índice, através da passagem de uma lista de colunas existentes para o método `df.set_index()`, estando essa lista em ordem de hierarquia."
   ]
  },
  {
   "cell_type": "code",
   "execution_count": 22,
   "metadata": {},
   "outputs": [],
   "source": [
    "salarios = salarios.set_index(['Department', 'Position Title'])"
   ]
  },
  {
   "cell_type": "code",
   "execution_count": 24,
   "metadata": {},
   "outputs": [
    {
     "data": {
      "text/html": [
       "<div>\n",
       "<style scoped>\n",
       "    .dataframe tbody tr th:only-of-type {\n",
       "        vertical-align: middle;\n",
       "    }\n",
       "\n",
       "    .dataframe tbody tr th {\n",
       "        vertical-align: top;\n",
       "    }\n",
       "\n",
       "    .dataframe thead th {\n",
       "        text-align: right;\n",
       "    }\n",
       "</style>\n",
       "<table border=\"1\" class=\"dataframe\">\n",
       "  <thead>\n",
       "    <tr style=\"text-align: right;\">\n",
       "      <th></th>\n",
       "      <th></th>\n",
       "      <th>Name</th>\n",
       "      <th>Employee Annual Salary</th>\n",
       "    </tr>\n",
       "    <tr>\n",
       "      <th>Department</th>\n",
       "      <th>Position Title</th>\n",
       "      <th></th>\n",
       "      <th></th>\n",
       "    </tr>\n",
       "  </thead>\n",
       "  <tbody>\n",
       "    <tr>\n",
       "      <th>WATER MGMNT</th>\n",
       "      <th>WATER RATE TAKER</th>\n",
       "      <td>AARON,  ELVIA J</td>\n",
       "      <td>88965.0</td>\n",
       "    </tr>\n",
       "    <tr>\n",
       "      <th rowspan=\"2\" valign=\"top\">POLICE</th>\n",
       "      <th>POLICE OFFICER</th>\n",
       "      <td>AARON,  JEFFERY M</td>\n",
       "      <td>80778.0</td>\n",
       "    </tr>\n",
       "    <tr>\n",
       "      <th>POLICE OFFICER</th>\n",
       "      <td>AARON,  KARINA</td>\n",
       "      <td>80778.0</td>\n",
       "    </tr>\n",
       "    <tr>\n",
       "      <th>GENERAL SERVICES</th>\n",
       "      <th>CHIEF CONTRACT EXPEDITER</th>\n",
       "      <td>AARON,  KIMBERLEI R</td>\n",
       "      <td>84780.0</td>\n",
       "    </tr>\n",
       "    <tr>\n",
       "      <th>WATER MGMNT</th>\n",
       "      <th>CIVIL ENGINEER IV</th>\n",
       "      <td>ABAD JR,  VICENTE M</td>\n",
       "      <td>104736.0</td>\n",
       "    </tr>\n",
       "    <tr>\n",
       "      <th>CITY COUNCIL</th>\n",
       "      <th>ASST TO THE ALDERMAN</th>\n",
       "      <td>ABARCA,  ANABEL</td>\n",
       "      <td>70764.0</td>\n",
       "    </tr>\n",
       "    <tr>\n",
       "      <th>STREETS &amp; SAN</th>\n",
       "      <th>GENERAL LABORER - DSS</th>\n",
       "      <td>ABARCA,  EMMANUEL</td>\n",
       "      <td>40560.0</td>\n",
       "    </tr>\n",
       "    <tr>\n",
       "      <th>AVIATION</th>\n",
       "      <th>ELECTRICAL MECHANIC</th>\n",
       "      <td>ABBATACOLA,  ROBERT J</td>\n",
       "      <td>91520.0</td>\n",
       "    </tr>\n",
       "    <tr>\n",
       "      <th>FIRE</th>\n",
       "      <th>FIRE ENGINEER</th>\n",
       "      <td>ABBATEMARCO,  JAMES J</td>\n",
       "      <td>90456.0</td>\n",
       "    </tr>\n",
       "    <tr>\n",
       "      <th>POLICE</th>\n",
       "      <th>POLICE OFFICER</th>\n",
       "      <td>ABBATE,  TERRY M</td>\n",
       "      <td>86520.0</td>\n",
       "    </tr>\n",
       "    <tr>\n",
       "      <th>FAMILY &amp; SUPPORT</th>\n",
       "      <th>FOSTER GRANDPARENT</th>\n",
       "      <td>ABBOTT,  BETTY L</td>\n",
       "      <td>2756.0</td>\n",
       "    </tr>\n",
       "    <tr>\n",
       "      <th>POLICE</th>\n",
       "      <th>CLERK III</th>\n",
       "      <td>ABBOTT,  LYNISE M</td>\n",
       "      <td>43920.0</td>\n",
       "    </tr>\n",
       "    <tr>\n",
       "      <th>IPRA</th>\n",
       "      <th>INVESTIGATOR - IPRA II</th>\n",
       "      <td>ABBRUZZESE,  WILLIAM J</td>\n",
       "      <td>72468.0</td>\n",
       "    </tr>\n",
       "    <tr>\n",
       "      <th rowspan=\"2\" valign=\"top\">POLICE</th>\n",
       "      <th>POLICE OFFICER</th>\n",
       "      <td>ABDALLAH,  ZAID</td>\n",
       "      <td>69684.0</td>\n",
       "    </tr>\n",
       "    <tr>\n",
       "      <th>POLICE OFFICER</th>\n",
       "      <td>ABDELHADI,  ABDALMAHD</td>\n",
       "      <td>80778.0</td>\n",
       "    </tr>\n",
       "    <tr>\n",
       "      <th>FIRE</th>\n",
       "      <th>FIREFIGHTER (PER ARBITRATORS AWARD)-PARAMEDIC</th>\n",
       "      <td>ABDELLATIF,  AREF R</td>\n",
       "      <td>98244.0</td>\n",
       "    </tr>\n",
       "    <tr>\n",
       "      <th>POLICE</th>\n",
       "      <th>POLICE OFFICER</th>\n",
       "      <td>ABDELMAJEID,  AZIZ</td>\n",
       "      <td>80778.0</td>\n",
       "    </tr>\n",
       "    <tr>\n",
       "      <th>FIRE</th>\n",
       "      <th>FIREFIGHTER/PARAMEDIC</th>\n",
       "      <td>ABDOLLAHZADEH,  ALI</td>\n",
       "      <td>87720.0</td>\n",
       "    </tr>\n",
       "    <tr>\n",
       "      <th>WATER MGMNT</th>\n",
       "      <th>ENGINEERING TECHNICIAN VI</th>\n",
       "      <td>ABDUL-KARIM,  MUHAMMAD A</td>\n",
       "      <td>106104.0</td>\n",
       "    </tr>\n",
       "    <tr>\n",
       "      <th>FIRE</th>\n",
       "      <th>FIREFIGHTER-EMT</th>\n",
       "      <td>ABDULLAH,  DANIEL N</td>\n",
       "      <td>91764.0</td>\n",
       "    </tr>\n",
       "  </tbody>\n",
       "</table>\n",
       "</div>"
      ],
      "text/plain": [
       "                                                                                    Name  \\\n",
       "Department       Position Title                                                            \n",
       "WATER MGMNT      WATER RATE TAKER                                        AARON,  ELVIA J   \n",
       "POLICE           POLICE OFFICER                                        AARON,  JEFFERY M   \n",
       "                 POLICE OFFICER                                           AARON,  KARINA   \n",
       "GENERAL SERVICES CHIEF CONTRACT EXPEDITER                            AARON,  KIMBERLEI R   \n",
       "WATER MGMNT      CIVIL ENGINEER IV                                   ABAD JR,  VICENTE M   \n",
       "CITY COUNCIL     ASST TO THE ALDERMAN                                    ABARCA,  ANABEL   \n",
       "STREETS & SAN    GENERAL LABORER - DSS                                 ABARCA,  EMMANUEL   \n",
       "AVIATION         ELECTRICAL MECHANIC                               ABBATACOLA,  ROBERT J   \n",
       "FIRE             FIRE ENGINEER                                     ABBATEMARCO,  JAMES J   \n",
       "POLICE           POLICE OFFICER                                         ABBATE,  TERRY M   \n",
       "FAMILY & SUPPORT FOSTER GRANDPARENT                                     ABBOTT,  BETTY L   \n",
       "POLICE           CLERK III                                             ABBOTT,  LYNISE M   \n",
       "IPRA             INVESTIGATOR - IPRA II                           ABBRUZZESE,  WILLIAM J   \n",
       "POLICE           POLICE OFFICER                                          ABDALLAH,  ZAID   \n",
       "                 POLICE OFFICER                                    ABDELHADI,  ABDALMAHD   \n",
       "FIRE             FIREFIGHTER (PER ARBITRATORS AWARD)-PARAMEDIC       ABDELLATIF,  AREF R   \n",
       "POLICE           POLICE OFFICER                                       ABDELMAJEID,  AZIZ   \n",
       "FIRE             FIREFIGHTER/PARAMEDIC                               ABDOLLAHZADEH,  ALI   \n",
       "WATER MGMNT      ENGINEERING TECHNICIAN VI                      ABDUL-KARIM,  MUHAMMAD A   \n",
       "FIRE             FIREFIGHTER-EMT                                     ABDULLAH,  DANIEL N   \n",
       "\n",
       "                                                                Employee Annual Salary  \n",
       "Department       Position Title                                                         \n",
       "WATER MGMNT      WATER RATE TAKER                                              88965.0  \n",
       "POLICE           POLICE OFFICER                                                80778.0  \n",
       "                 POLICE OFFICER                                                80778.0  \n",
       "GENERAL SERVICES CHIEF CONTRACT EXPEDITER                                      84780.0  \n",
       "WATER MGMNT      CIVIL ENGINEER IV                                            104736.0  \n",
       "CITY COUNCIL     ASST TO THE ALDERMAN                                          70764.0  \n",
       "STREETS & SAN    GENERAL LABORER - DSS                                         40560.0  \n",
       "AVIATION         ELECTRICAL MECHANIC                                           91520.0  \n",
       "FIRE             FIRE ENGINEER                                                 90456.0  \n",
       "POLICE           POLICE OFFICER                                                86520.0  \n",
       "FAMILY & SUPPORT FOSTER GRANDPARENT                                             2756.0  \n",
       "POLICE           CLERK III                                                     43920.0  \n",
       "IPRA             INVESTIGATOR - IPRA II                                        72468.0  \n",
       "POLICE           POLICE OFFICER                                                69684.0  \n",
       "                 POLICE OFFICER                                                80778.0  \n",
       "FIRE             FIREFIGHTER (PER ARBITRATORS AWARD)-PARAMEDIC                 98244.0  \n",
       "POLICE           POLICE OFFICER                                                80778.0  \n",
       "FIRE             FIREFIGHTER/PARAMEDIC                                         87720.0  \n",
       "WATER MGMNT      ENGINEERING TECHNICIAN VI                                    106104.0  \n",
       "FIRE             FIREFIGHTER-EMT                                               91764.0  "
      ]
     },
     "execution_count": 24,
     "metadata": {},
     "output_type": "execute_result"
    }
   ],
   "source": [
    "salarios.head(20)"
   ]
  },
  {
   "cell_type": "markdown",
   "metadata": {},
   "source": [
    "### Tratando valores missing"
   ]
  },
  {
   "cell_type": "code",
   "execution_count": null,
   "metadata": {},
   "outputs": [],
   "source": []
  }
 ],
 "metadata": {
  "kernelspec": {
   "display_name": "Python 3",
   "language": "python",
   "name": "python3"
  },
  "language_info": {
   "codemirror_mode": {
    "name": "ipython",
    "version": 3
   },
   "file_extension": ".py",
   "mimetype": "text/x-python",
   "name": "python",
   "nbconvert_exporter": "python",
   "pygments_lexer": "ipython3",
   "version": "3.8.2"
  }
 },
 "nbformat": 4,
 "nbformat_minor": 4
}
