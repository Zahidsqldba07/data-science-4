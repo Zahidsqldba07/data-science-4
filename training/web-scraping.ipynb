{
 "cells": [
  {
   "cell_type": "code",
   "execution_count": 106,
   "metadata": {},
   "outputs": [],
   "source": [
    "import requests\n",
    "import pandas as pd\n",
    "import sqlite3 as sql3\n",
    "from bs4 import BeautifulSoup"
   ]
  },
  {
   "cell_type": "code",
   "execution_count": 99,
   "metadata": {},
   "outputs": [],
   "source": [
    "url = 'https://webscraper.io/test-sites/e-commerce/allinone'\n",
    "req = requests.get(url)\n",
    "name_product = []\n",
    "desc_product = []"
   ]
  },
  {
   "cell_type": "code",
   "execution_count": 100,
   "metadata": {},
   "outputs": [],
   "source": [
    "soup = BeautifulSoup(req.content, 'html.parser')\n",
    "\n",
    "data_product = soup.find_all('div', class_= 'caption')\n",
    "\n",
    "for item in data_product:\n",
    "    names = item.find_all('a', class_='title')\n",
    "    descriptions = item.find_all('p', class_='description')\n",
    "    for name in names:\n",
    "        name_product.append(name.next_element)\n",
    "    for desc in descriptions:\n",
    "        desc_product.append(desc.next_element)"
   ]
  },
  {
   "cell_type": "code",
   "execution_count": 103,
   "metadata": {},
   "outputs": [],
   "source": [
    "df = pd.DataFrame({'Nome do Produto': name_product,\n",
    "                  'Descrição do Produto': desc_product})"
   ]
  },
  {
   "cell_type": "code",
   "execution_count": 104,
   "metadata": {},
   "outputs": [
    {
     "data": {
      "text/html": [
       "<div>\n",
       "<style scoped>\n",
       "    .dataframe tbody tr th:only-of-type {\n",
       "        vertical-align: middle;\n",
       "    }\n",
       "\n",
       "    .dataframe tbody tr th {\n",
       "        vertical-align: top;\n",
       "    }\n",
       "\n",
       "    .dataframe thead th {\n",
       "        text-align: right;\n",
       "    }\n",
       "</style>\n",
       "<table border=\"1\" class=\"dataframe\">\n",
       "  <thead>\n",
       "    <tr style=\"text-align: right;\">\n",
       "      <th></th>\n",
       "      <th>Nome do Produto</th>\n",
       "      <th>Descrição do Produto</th>\n",
       "    </tr>\n",
       "  </thead>\n",
       "  <tbody>\n",
       "    <tr>\n",
       "      <th>0</th>\n",
       "      <td>Prestigio SmartB...</td>\n",
       "      <td>Prestigio SmartBook 133S Gold, 13.3\" FHD IPS, ...</td>\n",
       "    </tr>\n",
       "    <tr>\n",
       "      <th>1</th>\n",
       "      <td>Galaxy Tab 4</td>\n",
       "      <td>LTE (SM-T235), Quad-Core 1.2GHz, 8GB, Black</td>\n",
       "    </tr>\n",
       "    <tr>\n",
       "      <th>2</th>\n",
       "      <td>MSI GL72M 7RDX</td>\n",
       "      <td>Asus ROG Strix GL553VD-DM535T, 15.6\" FHD, Core...</td>\n",
       "    </tr>\n",
       "  </tbody>\n",
       "</table>\n",
       "</div>"
      ],
      "text/plain": [
       "       Nome do Produto                               Descrição do Produto\n",
       "0  Prestigio SmartB...  Prestigio SmartBook 133S Gold, 13.3\" FHD IPS, ...\n",
       "1         Galaxy Tab 4        LTE (SM-T235), Quad-Core 1.2GHz, 8GB, Black\n",
       "2       MSI GL72M 7RDX  Asus ROG Strix GL553VD-DM535T, 15.6\" FHD, Core..."
      ]
     },
     "execution_count": 104,
     "metadata": {},
     "output_type": "execute_result"
    }
   ],
   "source": [
    "df"
   ]
  },
  {
   "cell_type": "code",
   "execution_count": 120,
   "metadata": {},
   "outputs": [],
   "source": [
    "con = sql3.connect('product.db')\n",
    "cur = con.cursor()"
   ]
  },
  {
   "cell_type": "code",
   "execution_count": 121,
   "metadata": {},
   "outputs": [],
   "source": [
    "script = \"CREATE TABLE IF NOT EXISTS product( \\\n",
    "            id INTEGER AUTO_INCREMENT, \\\n",
    "            name TEXT NOT NULL, \\\n",
    "            description TEXT, \\\n",
    "            PRIMARY KEY (id));\"\n",
    "cur.execute(script)\n",
    "con.commit()"
   ]
  },
  {
   "cell_type": "code",
   "execution_count": 122,
   "metadata": {},
   "outputs": [],
   "source": [
    "i = 0\n",
    "while i < len(name_product):\n",
    "    script = \"INSERT INTO product VALUES (?, ?, ?)\"\n",
    "    cur.execute(script, (i, name_product[i], desc_product[i]))\n",
    "    con.commit()\n",
    "    i += 1"
   ]
  }
 ],
 "metadata": {
  "kernelspec": {
   "display_name": "Python 3",
   "language": "python",
   "name": "python3"
  },
  "language_info": {
   "codemirror_mode": {
    "name": "ipython",
    "version": 3
   },
   "file_extension": ".py",
   "mimetype": "text/x-python",
   "name": "python",
   "nbconvert_exporter": "python",
   "pygments_lexer": "ipython3",
   "version": "3.6.9"
  }
 },
 "nbformat": 4,
 "nbformat_minor": 4
}
